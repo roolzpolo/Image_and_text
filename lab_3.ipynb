{
 "cells": [
  {
   "cell_type": "markdown",
   "id": "62adb02d-22b9-4a99-afc5-910d64f42a23",
   "metadata": {},
   "source": [
    "# Problema 1"
   ]
  },
  {
   "cell_type": "code",
   "execution_count": 2,
   "id": "4b39d792-3878-46ec-823b-84b2a69b5fa2",
   "metadata": {
    "tags": []
   },
   "outputs": [
    {
     "name": "stdout",
     "output_type": "stream",
     "text": [
      "'Guate.360-porelmundo@miguate.com' es un correo válido.\n",
      "'Miercoles3@hotmail.com' es un correo válido.\n",
      "'Progra3.galileo@galileo.edu' es un correo válido.\n"
     ]
    }
   ],
   "source": [
    "import re\n",
    "\n",
    "# expresión regular\n",
    "email_regex = r'^[a-zA-Z0-9_.+-]+@[a-zA-Z0-9-]+\\.[a-zA-Z0-9-.]+$'\n",
    "\n",
    "# listado de correos\n",
    "emails = [\n",
    "    \"Guate.360-porelmundo@miguate.com\",\n",
    "    \"Miercoles3@hotmail.com\",\n",
    "    \"Progra3.galileo@galileo.edu\"\n",
    "]\n",
    "\n",
    "# VAlidación\n",
    "for email in emails:\n",
    "    if re.match(email_regex, email):\n",
    "        print(f\"'{email}' es un correo válido.\")\n",
    "    else:\n",
    "        print(f\"'{email}' no es un correo válido.\")\n"
   ]
  },
  {
   "cell_type": "code",
   "execution_count": 4,
   "id": "97f00b74-a1f9-439b-9c6c-0fafb2a30c55",
   "metadata": {
    "tags": []
   },
   "outputs": [
    {
     "name": "stdout",
     "output_type": "stream",
     "text": [
      "'https://www.guate360-porelmundo.com' no es una URL válida.\n",
      "'http://www.a2.net' no es una URL válida.\n",
      "'https://www.galileo.edu' no es una URL válida.\n",
      "'http://www.8.org' no es una URL válida.\n"
     ]
    }
   ],
   "source": [
    "# expresión regular\n",
    "url_regex = r'^(https?:\\/\\/www\\.)[a-zA-Z0-9-]+(\\.[a-zA-Z]{2,})+(\\.com|\\.org|\\.edu)$'\n",
    "\n",
    "# listado de correos\n",
    "urls = [\n",
    "    \"https://www.guate360-porelmundo.com\",\n",
    "    \"http://www.a2.net\",\n",
    "    \"https://www.galileo.edu\",\n",
    "    \"http://www.8.org\"\n",
    "]\n",
    "\n",
    "# Validación\n",
    "for url in urls:\n",
    "    if re.match(url_regex, url):\n",
    "        print(f\"'{url}' es una URL válida.\")\n",
    "    else:\n",
    "        print(f\"'{url}' no es una URL válida.\")\n"
   ]
  },
  {
   "cell_type": "code",
   "execution_count": 6,
   "id": "2fdac8b6-67c4-4ec7-b998-f2e1c0e4cf34",
   "metadata": {
    "tags": []
   },
   "outputs": [
    {
     "name": "stdout",
     "output_type": "stream",
     "text": [
      "'5A 6F AF 8C 9B 1D' es una MAC Address válida.\n",
      "'6D 6C 4D 3A EB 3F' es una MAC Address válida.\n",
      "'3A 7C FA C8 6D 4J' no es una MAC Address válida.\n"
     ]
    }
   ],
   "source": [
    "#  expresión regular para validar MAC Addresses\n",
    "mac_regex = r'^([0-9A-Fa-f]{2} ){5}[0-9A-Fa-f]{2}$'\n",
    "\n",
    "mac_addresses = [\n",
    "    \"5A 6F AF 8C 9B 1D\",\n",
    "    \"6D 6C 4D 3A EB 3F\",\n",
    "    \"3A 7C FA C8 6D 4J\"\n",
    "]\n",
    "\n",
    "# Validacion\n",
    "for mac in mac_addresses:\n",
    "    if re.match(mac_regex, mac):\n",
    "        print(f\"'{mac}' es una MAC Address válida.\")\n",
    "    else:\n",
    "        print(f\"'{mac}' no es una MAC Address válida.\")\n",
    "\n"
   ]
  },
  {
   "cell_type": "code",
   "execution_count": 8,
   "id": "d6eb5d67-22c1-4500-8242-361cc40101dd",
   "metadata": {
    "tags": []
   },
   "outputs": [
    {
     "name": "stdout",
     "output_type": "stream",
     "text": [
      "'192.16.8.1' es una dirección IPv4 válida.\n",
      "'234.56.78.90' es una dirección IPv4 válida.\n",
      "'1.2.3.4' es una dirección IPv4 válida.\n",
      "'192.168.45.345' no es una dirección IPv4 válida.\n"
     ]
    }
   ],
   "source": [
    "# expresión regular para validar direcciones IPv4\n",
    "ipv4_regex = r'^((25[0-5]|2[0-4][0-9]|1[0-9]{2}|[1-9]?[0-9])\\.){3}(25[0-5]|2[0-4][0-9]|1[0-9]{2}|[1-9]?[0-9])$'\n",
    "\n",
    "ipv4_addresses = [\n",
    "    \"192.16.8.1\",\n",
    "    \"234.56.78.90\",\n",
    "    \"1.2.3.4\",\n",
    "    \"192.168.45.345\"\n",
    "]\n",
    "\n",
    "# Validar dirección IPv4\n",
    "for ip in ipv4_addresses:\n",
    "    if re.match(ipv4_regex, ip):\n",
    "        print(f\"'{ip}' es una dirección IPv4 válida.\")\n",
    "    else:\n",
    "        print(f\"'{ip}' no es una dirección IPv4 válida.\")\n"
   ]
  },
  {
   "cell_type": "code",
   "execution_count": null,
   "id": "def53dc7-7da3-4f45-b0da-5a92dbb0eea6",
   "metadata": {},
   "outputs": [],
   "source": [
    "# Problema 2"
   ]
  },
  {
   "cell_type": "code",
   "execution_count": 10,
   "id": "57529d19-cb99-4ce7-a424-99d3588e522a",
   "metadata": {
    "tags": []
   },
   "outputs": [
    {
     "name": "stdout",
     "output_type": "stream",
     "text": [
      "Día promedio: 15.60\n",
      "Mes promedio: 6.47\n",
      "Año promedio: 2016.68\n"
     ]
    }
   ],
   "source": [
    "import os\n",
    "from datetime import datetime\n",
    "\n",
    "# Diccionario de meses en inglés\n",
    "months = {\n",
    "    \"Jan\": 1, \"Feb\": 2, \"Mar\": 3, \"Apr\": 4, \"May\": 5, \"Jun\": 6,\n",
    "    \"Jul\": 7, \"Aug\": 8, \"Sep\": 9, \"Oct\": 10, \"Nov\": 11, \"Dec\": 12\n",
    "}\n",
    "\n",
    "# Expresiones regulares \n",
    "date_patterns = [\n",
    "    r'(\\d{2})/(\\d{2})/(\\d{4})',  # DD/MM/YYYY\n",
    "    r'(\\d{2})-(\\d{2})-(\\d{4})',  # DD-MM-YYYY\n",
    "    r'(\\d{2})\\.(\\d{2})\\.(\\d{4})',  # DD.MM.YYYY\n",
    "    r'(\\d{2}) (\\w{3}) (\\d{4})',  # DD Month YYYY\n",
    "]\n",
    "\n",
    "\n",
    "directory = 'Datos/'\n",
    "\n",
    "# Listas para almacenar los días, meses y años\n",
    "days = []\n",
    "months_list = []\n",
    "years = []\n",
    "\n",
    "# Funcion de lectura de archivos\n",
    "for filename in os.listdir(directory):\n",
    "    if filename.endswith(\".txt\"):\n",
    "        filepath = os.path.join(directory, filename)\n",
    "        with open(filepath, 'r') as file:\n",
    "            lines = file.readlines()\n",
    "            for line in lines:\n",
    "                line = line.strip()\n",
    "                for pattern in date_patterns:\n",
    "                    match = re.match(pattern, line)\n",
    "                    if match:\n",
    "                        day = int(match.group(1))\n",
    "                        month = match.group(2)\n",
    "                        year = int(match.group(3))\n",
    "                        # si está en formato de nombre\n",
    "                        if month.isdigit():\n",
    "                            month = int(month)\n",
    "                        else:\n",
    "                            month = months[month]\n",
    "                        days.append(day)\n",
    "                        months_list.append(month)\n",
    "                        years.append(year)\n",
    "                        break\n",
    "\n",
    "# Promedios\n",
    "average_day = sum(days) / len(days)\n",
    "average_month = sum(months_list) / len(months_list)\n",
    "average_year = sum(years) / len(years)\n",
    "\n",
    "\n",
    "print(f\"Día promedio: {average_day:.2f}\")\n",
    "print(f\"Mes promedio: {average_month:.2f}\")\n",
    "print(f\"Año promedio: {average_year:.2f}\")\n"
   ]
  },
  {
   "cell_type": "code",
   "execution_count": null,
   "id": "01335492-1445-4667-8da9-a68eda14ada4",
   "metadata": {},
   "outputs": [],
   "source": []
  }
 ],
 "metadata": {
  "kernelspec": {
   "display_name": "Python 3 (ipykernel)",
   "language": "python",
   "name": "python3"
  },
  "language_info": {
   "codemirror_mode": {
    "name": "ipython",
    "version": 3
   },
   "file_extension": ".py",
   "mimetype": "text/x-python",
   "name": "python",
   "nbconvert_exporter": "python",
   "pygments_lexer": "ipython3",
   "version": "3.11.8"
  }
 },
 "nbformat": 4,
 "nbformat_minor": 5
}
